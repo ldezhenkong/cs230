{
  "nbformat": 4,
  "nbformat_minor": 0,
  "metadata": {
    "colab": {
      "name": "CS230 Project",
      "provenance": [],
      "collapsed_sections": [],
      "toc_visible": true,
      "authorship_tag": "ABX9TyOSqm3QDGv/xsFvwafw4/rM",
      "include_colab_link": true
    },
    "kernelspec": {
      "name": "python3",
      "display_name": "Python 3"
    },
    "widgets": {
      "application/vnd.jupyter.widget-state+json": {
        "fbbdd70c154645b7b7606956b36d64e8": {
          "model_module": "@jupyter-widgets/controls",
          "model_name": "HBoxModel",
          "state": {
            "_view_name": "HBoxView",
            "_dom_classes": [],
            "_model_name": "HBoxModel",
            "_view_module": "@jupyter-widgets/controls",
            "_model_module_version": "1.5.0",
            "_view_count": null,
            "_view_module_version": "1.5.0",
            "box_style": "",
            "layout": "IPY_MODEL_13781aee5bcd4fdcb14abcc5c62590f4",
            "_model_module": "@jupyter-widgets/controls",
            "children": [
              "IPY_MODEL_76f9c1328aa74a8eb385d384f42e6dce",
              "IPY_MODEL_1ffb91dc13ff4c7a81b206e7a0f436c5"
            ]
          }
        },
        "13781aee5bcd4fdcb14abcc5c62590f4": {
          "model_module": "@jupyter-widgets/base",
          "model_name": "LayoutModel",
          "state": {
            "_view_name": "LayoutView",
            "grid_template_rows": null,
            "right": null,
            "justify_content": null,
            "_view_module": "@jupyter-widgets/base",
            "overflow": null,
            "_model_module_version": "1.2.0",
            "_view_count": null,
            "flex_flow": null,
            "width": null,
            "min_width": null,
            "border": null,
            "align_items": null,
            "bottom": null,
            "_model_module": "@jupyter-widgets/base",
            "top": null,
            "grid_column": null,
            "overflow_y": null,
            "overflow_x": null,
            "grid_auto_flow": null,
            "grid_area": null,
            "grid_template_columns": null,
            "flex": null,
            "_model_name": "LayoutModel",
            "justify_items": null,
            "grid_row": null,
            "max_height": null,
            "align_content": null,
            "visibility": null,
            "align_self": null,
            "height": null,
            "min_height": null,
            "padding": null,
            "grid_auto_rows": null,
            "grid_gap": null,
            "max_width": null,
            "order": null,
            "_view_module_version": "1.2.0",
            "grid_template_areas": null,
            "object_position": null,
            "object_fit": null,
            "grid_auto_columns": null,
            "margin": null,
            "display": null,
            "left": null
          }
        },
        "76f9c1328aa74a8eb385d384f42e6dce": {
          "model_module": "@jupyter-widgets/controls",
          "model_name": "FloatProgressModel",
          "state": {
            "_view_name": "ProgressView",
            "style": "IPY_MODEL_a3624de2c2ee41a89b3c46be124d3ef1",
            "_dom_classes": [],
            "description": "Downloading: 100%",
            "_model_name": "FloatProgressModel",
            "bar_style": "success",
            "max": 995526,
            "_view_module": "@jupyter-widgets/controls",
            "_model_module_version": "1.5.0",
            "value": 995526,
            "_view_count": null,
            "_view_module_version": "1.5.0",
            "orientation": "horizontal",
            "min": 0,
            "description_tooltip": null,
            "_model_module": "@jupyter-widgets/controls",
            "layout": "IPY_MODEL_12c17992881f4e038e3719005d1f6ccb"
          }
        },
        "1ffb91dc13ff4c7a81b206e7a0f436c5": {
          "model_module": "@jupyter-widgets/controls",
          "model_name": "HTMLModel",
          "state": {
            "_view_name": "HTMLView",
            "style": "IPY_MODEL_8614ef0657034d60bc280f951f9aa077",
            "_dom_classes": [],
            "description": "",
            "_model_name": "HTMLModel",
            "placeholder": "​",
            "_view_module": "@jupyter-widgets/controls",
            "_model_module_version": "1.5.0",
            "value": " 996k/996k [00:00&lt;00:00, 1.70MB/s]",
            "_view_count": null,
            "_view_module_version": "1.5.0",
            "description_tooltip": null,
            "_model_module": "@jupyter-widgets/controls",
            "layout": "IPY_MODEL_89a4b87a93314e06a2c039d2f71d98dd"
          }
        },
        "a3624de2c2ee41a89b3c46be124d3ef1": {
          "model_module": "@jupyter-widgets/controls",
          "model_name": "ProgressStyleModel",
          "state": {
            "_view_name": "StyleView",
            "_model_name": "ProgressStyleModel",
            "description_width": "initial",
            "_view_module": "@jupyter-widgets/base",
            "_model_module_version": "1.5.0",
            "_view_count": null,
            "_view_module_version": "1.2.0",
            "bar_color": null,
            "_model_module": "@jupyter-widgets/controls"
          }
        },
        "12c17992881f4e038e3719005d1f6ccb": {
          "model_module": "@jupyter-widgets/base",
          "model_name": "LayoutModel",
          "state": {
            "_view_name": "LayoutView",
            "grid_template_rows": null,
            "right": null,
            "justify_content": null,
            "_view_module": "@jupyter-widgets/base",
            "overflow": null,
            "_model_module_version": "1.2.0",
            "_view_count": null,
            "flex_flow": null,
            "width": null,
            "min_width": null,
            "border": null,
            "align_items": null,
            "bottom": null,
            "_model_module": "@jupyter-widgets/base",
            "top": null,
            "grid_column": null,
            "overflow_y": null,
            "overflow_x": null,
            "grid_auto_flow": null,
            "grid_area": null,
            "grid_template_columns": null,
            "flex": null,
            "_model_name": "LayoutModel",
            "justify_items": null,
            "grid_row": null,
            "max_height": null,
            "align_content": null,
            "visibility": null,
            "align_self": null,
            "height": null,
            "min_height": null,
            "padding": null,
            "grid_auto_rows": null,
            "grid_gap": null,
            "max_width": null,
            "order": null,
            "_view_module_version": "1.2.0",
            "grid_template_areas": null,
            "object_position": null,
            "object_fit": null,
            "grid_auto_columns": null,
            "margin": null,
            "display": null,
            "left": null
          }
        },
        "8614ef0657034d60bc280f951f9aa077": {
          "model_module": "@jupyter-widgets/controls",
          "model_name": "DescriptionStyleModel",
          "state": {
            "_view_name": "StyleView",
            "_model_name": "DescriptionStyleModel",
            "description_width": "",
            "_view_module": "@jupyter-widgets/base",
            "_model_module_version": "1.5.0",
            "_view_count": null,
            "_view_module_version": "1.2.0",
            "_model_module": "@jupyter-widgets/controls"
          }
        },
        "89a4b87a93314e06a2c039d2f71d98dd": {
          "model_module": "@jupyter-widgets/base",
          "model_name": "LayoutModel",
          "state": {
            "_view_name": "LayoutView",
            "grid_template_rows": null,
            "right": null,
            "justify_content": null,
            "_view_module": "@jupyter-widgets/base",
            "overflow": null,
            "_model_module_version": "1.2.0",
            "_view_count": null,
            "flex_flow": null,
            "width": null,
            "min_width": null,
            "border": null,
            "align_items": null,
            "bottom": null,
            "_model_module": "@jupyter-widgets/base",
            "top": null,
            "grid_column": null,
            "overflow_y": null,
            "overflow_x": null,
            "grid_auto_flow": null,
            "grid_area": null,
            "grid_template_columns": null,
            "flex": null,
            "_model_name": "LayoutModel",
            "justify_items": null,
            "grid_row": null,
            "max_height": null,
            "align_content": null,
            "visibility": null,
            "align_self": null,
            "height": null,
            "min_height": null,
            "padding": null,
            "grid_auto_rows": null,
            "grid_gap": null,
            "max_width": null,
            "order": null,
            "_view_module_version": "1.2.0",
            "grid_template_areas": null,
            "object_position": null,
            "object_fit": null,
            "grid_auto_columns": null,
            "margin": null,
            "display": null,
            "left": null
          }
        },
        "e2b942bb3f2f44ebb08d3bc7d2ed4f05": {
          "model_module": "@jupyter-widgets/controls",
          "model_name": "HBoxModel",
          "state": {
            "_view_name": "HBoxView",
            "_dom_classes": [],
            "_model_name": "HBoxModel",
            "_view_module": "@jupyter-widgets/controls",
            "_model_module_version": "1.5.0",
            "_view_count": null,
            "_view_module_version": "1.5.0",
            "box_style": "",
            "layout": "IPY_MODEL_2d36e6c629504d4dbbfb5e4aab4b3cd9",
            "_model_module": "@jupyter-widgets/controls",
            "children": [
              "IPY_MODEL_5f4978a957ab4cecb6633d6c2a9e5c3b",
              "IPY_MODEL_93a917d3e2c045db8feaa784110a170a"
            ]
          }
        },
        "2d36e6c629504d4dbbfb5e4aab4b3cd9": {
          "model_module": "@jupyter-widgets/base",
          "model_name": "LayoutModel",
          "state": {
            "_view_name": "LayoutView",
            "grid_template_rows": null,
            "right": null,
            "justify_content": null,
            "_view_module": "@jupyter-widgets/base",
            "overflow": null,
            "_model_module_version": "1.2.0",
            "_view_count": null,
            "flex_flow": null,
            "width": null,
            "min_width": null,
            "border": null,
            "align_items": null,
            "bottom": null,
            "_model_module": "@jupyter-widgets/base",
            "top": null,
            "grid_column": null,
            "overflow_y": null,
            "overflow_x": null,
            "grid_auto_flow": null,
            "grid_area": null,
            "grid_template_columns": null,
            "flex": null,
            "_model_name": "LayoutModel",
            "justify_items": null,
            "grid_row": null,
            "max_height": null,
            "align_content": null,
            "visibility": null,
            "align_self": null,
            "height": null,
            "min_height": null,
            "padding": null,
            "grid_auto_rows": null,
            "grid_gap": null,
            "max_width": null,
            "order": null,
            "_view_module_version": "1.2.0",
            "grid_template_areas": null,
            "object_position": null,
            "object_fit": null,
            "grid_auto_columns": null,
            "margin": null,
            "display": null,
            "left": null
          }
        },
        "5f4978a957ab4cecb6633d6c2a9e5c3b": {
          "model_module": "@jupyter-widgets/controls",
          "model_name": "FloatProgressModel",
          "state": {
            "_view_name": "ProgressView",
            "style": "IPY_MODEL_285827996df14983b6552be2d83f17df",
            "_dom_classes": [],
            "description": "Downloading: 100%",
            "_model_name": "FloatProgressModel",
            "bar_style": "success",
            "max": 466,
            "_view_module": "@jupyter-widgets/controls",
            "_model_module_version": "1.5.0",
            "value": 466,
            "_view_count": null,
            "_view_module_version": "1.5.0",
            "orientation": "horizontal",
            "min": 0,
            "description_tooltip": null,
            "_model_module": "@jupyter-widgets/controls",
            "layout": "IPY_MODEL_2bc6b764aa10484db36eb5f6104c5eae"
          }
        },
        "93a917d3e2c045db8feaa784110a170a": {
          "model_module": "@jupyter-widgets/controls",
          "model_name": "HTMLModel",
          "state": {
            "_view_name": "HTMLView",
            "style": "IPY_MODEL_a2653aeb2a3441de9047741e043c92cd",
            "_dom_classes": [],
            "description": "",
            "_model_name": "HTMLModel",
            "placeholder": "​",
            "_view_module": "@jupyter-widgets/controls",
            "_model_module_version": "1.5.0",
            "value": " 466/466 [00:00&lt;00:00, 547B/s]",
            "_view_count": null,
            "_view_module_version": "1.5.0",
            "description_tooltip": null,
            "_model_module": "@jupyter-widgets/controls",
            "layout": "IPY_MODEL_a172c61077a843eb86189a6f77919987"
          }
        },
        "285827996df14983b6552be2d83f17df": {
          "model_module": "@jupyter-widgets/controls",
          "model_name": "ProgressStyleModel",
          "state": {
            "_view_name": "StyleView",
            "_model_name": "ProgressStyleModel",
            "description_width": "initial",
            "_view_module": "@jupyter-widgets/base",
            "_model_module_version": "1.5.0",
            "_view_count": null,
            "_view_module_version": "1.2.0",
            "bar_color": null,
            "_model_module": "@jupyter-widgets/controls"
          }
        },
        "2bc6b764aa10484db36eb5f6104c5eae": {
          "model_module": "@jupyter-widgets/base",
          "model_name": "LayoutModel",
          "state": {
            "_view_name": "LayoutView",
            "grid_template_rows": null,
            "right": null,
            "justify_content": null,
            "_view_module": "@jupyter-widgets/base",
            "overflow": null,
            "_model_module_version": "1.2.0",
            "_view_count": null,
            "flex_flow": null,
            "width": null,
            "min_width": null,
            "border": null,
            "align_items": null,
            "bottom": null,
            "_model_module": "@jupyter-widgets/base",
            "top": null,
            "grid_column": null,
            "overflow_y": null,
            "overflow_x": null,
            "grid_auto_flow": null,
            "grid_area": null,
            "grid_template_columns": null,
            "flex": null,
            "_model_name": "LayoutModel",
            "justify_items": null,
            "grid_row": null,
            "max_height": null,
            "align_content": null,
            "visibility": null,
            "align_self": null,
            "height": null,
            "min_height": null,
            "padding": null,
            "grid_auto_rows": null,
            "grid_gap": null,
            "max_width": null,
            "order": null,
            "_view_module_version": "1.2.0",
            "grid_template_areas": null,
            "object_position": null,
            "object_fit": null,
            "grid_auto_columns": null,
            "margin": null,
            "display": null,
            "left": null
          }
        },
        "a2653aeb2a3441de9047741e043c92cd": {
          "model_module": "@jupyter-widgets/controls",
          "model_name": "DescriptionStyleModel",
          "state": {
            "_view_name": "StyleView",
            "_model_name": "DescriptionStyleModel",
            "description_width": "",
            "_view_module": "@jupyter-widgets/base",
            "_model_module_version": "1.5.0",
            "_view_count": null,
            "_view_module_version": "1.2.0",
            "_model_module": "@jupyter-widgets/controls"
          }
        },
        "a172c61077a843eb86189a6f77919987": {
          "model_module": "@jupyter-widgets/base",
          "model_name": "LayoutModel",
          "state": {
            "_view_name": "LayoutView",
            "grid_template_rows": null,
            "right": null,
            "justify_content": null,
            "_view_module": "@jupyter-widgets/base",
            "overflow": null,
            "_model_module_version": "1.2.0",
            "_view_count": null,
            "flex_flow": null,
            "width": null,
            "min_width": null,
            "border": null,
            "align_items": null,
            "bottom": null,
            "_model_module": "@jupyter-widgets/base",
            "top": null,
            "grid_column": null,
            "overflow_y": null,
            "overflow_x": null,
            "grid_auto_flow": null,
            "grid_area": null,
            "grid_template_columns": null,
            "flex": null,
            "_model_name": "LayoutModel",
            "justify_items": null,
            "grid_row": null,
            "max_height": null,
            "align_content": null,
            "visibility": null,
            "align_self": null,
            "height": null,
            "min_height": null,
            "padding": null,
            "grid_auto_rows": null,
            "grid_gap": null,
            "max_width": null,
            "order": null,
            "_view_module_version": "1.2.0",
            "grid_template_areas": null,
            "object_position": null,
            "object_fit": null,
            "grid_auto_columns": null,
            "margin": null,
            "display": null,
            "left": null
          }
        },
        "53fce35cc4514565981e9007a7084c59": {
          "model_module": "@jupyter-widgets/controls",
          "model_name": "HBoxModel",
          "state": {
            "_view_name": "HBoxView",
            "_dom_classes": [],
            "_model_name": "HBoxModel",
            "_view_module": "@jupyter-widgets/controls",
            "_model_module_version": "1.5.0",
            "_view_count": null,
            "_view_module_version": "1.5.0",
            "box_style": "",
            "layout": "IPY_MODEL_ac8a97c68a9d4724a0d88849376520aa",
            "_model_module": "@jupyter-widgets/controls",
            "children": [
              "IPY_MODEL_7260c024ac904c11853c6e2bd6bfa289",
              "IPY_MODEL_79e6de0c25c2425687a694811d96f7ba"
            ]
          }
        },
        "ac8a97c68a9d4724a0d88849376520aa": {
          "model_module": "@jupyter-widgets/base",
          "model_name": "LayoutModel",
          "state": {
            "_view_name": "LayoutView",
            "grid_template_rows": null,
            "right": null,
            "justify_content": null,
            "_view_module": "@jupyter-widgets/base",
            "overflow": null,
            "_model_module_version": "1.2.0",
            "_view_count": null,
            "flex_flow": null,
            "width": null,
            "min_width": null,
            "border": null,
            "align_items": null,
            "bottom": null,
            "_model_module": "@jupyter-widgets/base",
            "top": null,
            "grid_column": null,
            "overflow_y": null,
            "overflow_x": null,
            "grid_auto_flow": null,
            "grid_area": null,
            "grid_template_columns": null,
            "flex": null,
            "_model_name": "LayoutModel",
            "justify_items": null,
            "grid_row": null,
            "max_height": null,
            "align_content": null,
            "visibility": null,
            "align_self": null,
            "height": null,
            "min_height": null,
            "padding": null,
            "grid_auto_rows": null,
            "grid_gap": null,
            "max_width": null,
            "order": null,
            "_view_module_version": "1.2.0",
            "grid_template_areas": null,
            "object_position": null,
            "object_fit": null,
            "grid_auto_columns": null,
            "margin": null,
            "display": null,
            "left": null
          }
        },
        "7260c024ac904c11853c6e2bd6bfa289": {
          "model_module": "@jupyter-widgets/controls",
          "model_name": "FloatProgressModel",
          "state": {
            "_view_name": "ProgressView",
            "style": "IPY_MODEL_4527d3ea353b4b389413b9fa3412dc25",
            "_dom_classes": [],
            "description": "Downloading: 100%",
            "_model_name": "FloatProgressModel",
            "bar_style": "success",
            "max": 910749124,
            "_view_module": "@jupyter-widgets/controls",
            "_model_module_version": "1.5.0",
            "value": 910749124,
            "_view_count": null,
            "_view_module_version": "1.5.0",
            "orientation": "horizontal",
            "min": 0,
            "description_tooltip": null,
            "_model_module": "@jupyter-widgets/controls",
            "layout": "IPY_MODEL_03662b81974241009d86eb0d673f25b1"
          }
        },
        "79e6de0c25c2425687a694811d96f7ba": {
          "model_module": "@jupyter-widgets/controls",
          "model_name": "HTMLModel",
          "state": {
            "_view_name": "HTMLView",
            "style": "IPY_MODEL_5f78f4c2e7de46cabc9ab0bcb268dcb1",
            "_dom_classes": [],
            "description": "",
            "_model_name": "HTMLModel",
            "placeholder": "​",
            "_view_module": "@jupyter-widgets/controls",
            "_model_module_version": "1.5.0",
            "value": " 911M/911M [00:20&lt;00:00, 44.3MB/s]",
            "_view_count": null,
            "_view_module_version": "1.5.0",
            "description_tooltip": null,
            "_model_module": "@jupyter-widgets/controls",
            "layout": "IPY_MODEL_1ac9f78762264dc88f5b448af3ccb679"
          }
        },
        "4527d3ea353b4b389413b9fa3412dc25": {
          "model_module": "@jupyter-widgets/controls",
          "model_name": "ProgressStyleModel",
          "state": {
            "_view_name": "StyleView",
            "_model_name": "ProgressStyleModel",
            "description_width": "initial",
            "_view_module": "@jupyter-widgets/base",
            "_model_module_version": "1.5.0",
            "_view_count": null,
            "_view_module_version": "1.2.0",
            "bar_color": null,
            "_model_module": "@jupyter-widgets/controls"
          }
        },
        "03662b81974241009d86eb0d673f25b1": {
          "model_module": "@jupyter-widgets/base",
          "model_name": "LayoutModel",
          "state": {
            "_view_name": "LayoutView",
            "grid_template_rows": null,
            "right": null,
            "justify_content": null,
            "_view_module": "@jupyter-widgets/base",
            "overflow": null,
            "_model_module_version": "1.2.0",
            "_view_count": null,
            "flex_flow": null,
            "width": null,
            "min_width": null,
            "border": null,
            "align_items": null,
            "bottom": null,
            "_model_module": "@jupyter-widgets/base",
            "top": null,
            "grid_column": null,
            "overflow_y": null,
            "overflow_x": null,
            "grid_auto_flow": null,
            "grid_area": null,
            "grid_template_columns": null,
            "flex": null,
            "_model_name": "LayoutModel",
            "justify_items": null,
            "grid_row": null,
            "max_height": null,
            "align_content": null,
            "visibility": null,
            "align_self": null,
            "height": null,
            "min_height": null,
            "padding": null,
            "grid_auto_rows": null,
            "grid_gap": null,
            "max_width": null,
            "order": null,
            "_view_module_version": "1.2.0",
            "grid_template_areas": null,
            "object_position": null,
            "object_fit": null,
            "grid_auto_columns": null,
            "margin": null,
            "display": null,
            "left": null
          }
        },
        "5f78f4c2e7de46cabc9ab0bcb268dcb1": {
          "model_module": "@jupyter-widgets/controls",
          "model_name": "DescriptionStyleModel",
          "state": {
            "_view_name": "StyleView",
            "_model_name": "DescriptionStyleModel",
            "description_width": "",
            "_view_module": "@jupyter-widgets/base",
            "_model_module_version": "1.5.0",
            "_view_count": null,
            "_view_module_version": "1.2.0",
            "_model_module": "@jupyter-widgets/controls"
          }
        },
        "1ac9f78762264dc88f5b448af3ccb679": {
          "model_module": "@jupyter-widgets/base",
          "model_name": "LayoutModel",
          "state": {
            "_view_name": "LayoutView",
            "grid_template_rows": null,
            "right": null,
            "justify_content": null,
            "_view_module": "@jupyter-widgets/base",
            "overflow": null,
            "_model_module_version": "1.2.0",
            "_view_count": null,
            "flex_flow": null,
            "width": null,
            "min_width": null,
            "border": null,
            "align_items": null,
            "bottom": null,
            "_model_module": "@jupyter-widgets/base",
            "top": null,
            "grid_column": null,
            "overflow_y": null,
            "overflow_x": null,
            "grid_auto_flow": null,
            "grid_area": null,
            "grid_template_columns": null,
            "flex": null,
            "_model_name": "LayoutModel",
            "justify_items": null,
            "grid_row": null,
            "max_height": null,
            "align_content": null,
            "visibility": null,
            "align_self": null,
            "height": null,
            "min_height": null,
            "padding": null,
            "grid_auto_rows": null,
            "grid_gap": null,
            "max_width": null,
            "order": null,
            "_view_module_version": "1.2.0",
            "grid_template_areas": null,
            "object_position": null,
            "object_fit": null,
            "grid_auto_columns": null,
            "margin": null,
            "display": null,
            "left": null
          }
        }
      }
    }
  },
  "cells": [
    {
      "cell_type": "markdown",
      "metadata": {
        "id": "view-in-github",
        "colab_type": "text"
      },
      "source": [
        "<a href=\"https://colab.research.google.com/github/ldezhenkong/cs230/blob/master/CS230_Project.ipynb\" target=\"_parent\"><img src=\"https://colab.research.google.com/assets/colab-badge.svg\" alt=\"Open In Colab\"/></a>"
      ]
    },
    {
      "cell_type": "code",
      "metadata": {
        "id": "QZka2yUneKpk",
        "colab_type": "code",
        "outputId": "a21ec825-6376-493f-f6fd-76efd0d9c28b",
        "colab": {
          "base_uri": "https://localhost:8080/",
          "height": 493
        }
      },
      "source": [
        "!KAGGLE_USERNAME=lynndzkong KAGGLE_KEY=e17afb0741bbcdc4b38ae1e2fe24b546 kaggle competitions download -c jigsaw-multilingual-toxic-comment-classification"
      ],
      "execution_count": 0,
      "outputs": [
        {
          "output_type": "stream",
          "text": [
            "Warning: Looks like you're using an outdated API Version, please consider updating (server 1.5.6 / client 1.5.4)\n",
            "Downloading validation.csv.zip to /content\n",
            "  0% 0.00/1.35M [00:00<?, ?B/s]\n",
            "100% 1.35M/1.35M [00:00<00:00, 44.2MB/s]\n",
            "Downloading jigsaw-toxic-comment-train.csv.zip to /content\n",
            " 75% 28.0M/37.3M [00:00<00:00, 21.6MB/s]\n",
            "100% 37.3M/37.3M [00:00<00:00, 45.1MB/s]\n",
            "Downloading jigsaw-unintended-bias-train.csv.zip to /content\n",
            " 99% 289M/292M [00:04<00:00, 75.7MB/s]\n",
            "100% 292M/292M [00:04<00:00, 71.4MB/s]\n",
            "Downloading test-processed-seqlen128.csv.zip to /content\n",
            " 30% 9.00M/29.8M [00:00<00:01, 20.1MB/s]\n",
            "100% 29.8M/29.8M [00:00<00:00, 55.3MB/s]\n",
            "Downloading test.csv.zip to /content\n",
            " 73% 9.00M/12.4M [00:00<00:00, 17.2MB/s]\n",
            "100% 12.4M/12.4M [00:00<00:00, 21.1MB/s]\n",
            "Downloading sample_submission.csv to /content\n",
            "  0% 0.00/612k [00:00<?, ?B/s]\n",
            "100% 612k/612k [00:00<00:00, 201MB/s]\n",
            "Downloading validation-processed-seqlen128.csv.zip to /content\n",
            "  0% 0.00/3.44M [00:00<?, ?B/s]\n",
            "100% 3.44M/3.44M [00:00<00:00, 114MB/s]\n",
            "Downloading jigsaw-unintended-bias-train-processed-seqlen128.csv.zip to /content\n",
            " 99% 640M/650M [00:10<00:00, 78.9MB/s]\n",
            "100% 650M/650M [00:10<00:00, 62.4MB/s]\n",
            "Downloading jigsaw-toxic-comment-train-processed-seqlen128.csv.zip to /content\n",
            " 87% 69.0M/79.6M [00:01<00:00, 39.9MB/s]\n",
            "100% 79.6M/79.6M [00:01<00:00, 58.2MB/s]\n"
          ],
          "name": "stdout"
        }
      ]
    },
    {
      "cell_type": "code",
      "metadata": {
        "id": "H_Wuteusjo1E",
        "colab_type": "code",
        "outputId": "8f0303a7-06fb-471a-8288-6a314e911aba",
        "colab": {
          "base_uri": "https://localhost:8080/",
          "height": 85
        }
      },
      "source": [
        "!unzip /content/jigsaw-toxic-comment-train.csv.zip\n",
        "!unzip /content/validation.csv.zip\n"
      ],
      "execution_count": 0,
      "outputs": [
        {
          "output_type": "stream",
          "text": [
            "Archive:  /content/jigsaw-toxic-comment-train.csv.zip\n",
            "  inflating: jigsaw-toxic-comment-train.csv  \n",
            "Archive:  /content/validation.csv.zip\n",
            "  inflating: validation.csv          \n"
          ],
          "name": "stdout"
        }
      ]
    },
    {
      "cell_type": "code",
      "metadata": {
        "id": "OpzLFysfmejY",
        "colab_type": "code",
        "outputId": "b87ffc64-3525-4ba8-db32-1ca9e290913b",
        "colab": {
          "base_uri": "https://localhost:8080/",
          "height": 581
        }
      },
      "source": [
        "!pip install transformers"
      ],
      "execution_count": 0,
      "outputs": [
        {
          "output_type": "stream",
          "text": [
            "Collecting transformers\n",
            "\u001b[?25l  Downloading https://files.pythonhosted.org/packages/12/b5/ac41e3e95205ebf53439e4dd087c58e9fd371fd8e3724f2b9b4cdb8282e5/transformers-2.10.0-py3-none-any.whl (660kB)\n",
            "\u001b[K     |████████████████████████████████| 665kB 4.7MB/s \n",
            "\u001b[?25hRequirement already satisfied: regex!=2019.12.17 in /usr/local/lib/python3.6/dist-packages (from transformers) (2019.12.20)\n",
            "Collecting sacremoses\n",
            "\u001b[?25l  Downloading https://files.pythonhosted.org/packages/7d/34/09d19aff26edcc8eb2a01bed8e98f13a1537005d31e95233fd48216eed10/sacremoses-0.0.43.tar.gz (883kB)\n",
            "\u001b[K     |████████████████████████████████| 890kB 14.8MB/s \n",
            "\u001b[?25hCollecting sentencepiece\n",
            "\u001b[?25l  Downloading https://files.pythonhosted.org/packages/d4/a4/d0a884c4300004a78cca907a6ff9a5e9fe4f090f5d95ab341c53d28cbc58/sentencepiece-0.1.91-cp36-cp36m-manylinux1_x86_64.whl (1.1MB)\n",
            "\u001b[K     |████████████████████████████████| 1.1MB 31.0MB/s \n",
            "\u001b[?25hCollecting tokenizers==0.7.0\n",
            "\u001b[?25l  Downloading https://files.pythonhosted.org/packages/14/e5/a26eb4716523808bb0a799fcfdceb6ebf77a18169d9591b2f46a9adb87d9/tokenizers-0.7.0-cp36-cp36m-manylinux1_x86_64.whl (3.8MB)\n",
            "\u001b[K     |████████████████████████████████| 3.8MB 21.7MB/s \n",
            "\u001b[?25hRequirement already satisfied: dataclasses; python_version < \"3.7\" in /usr/local/lib/python3.6/dist-packages (from transformers) (0.7)\n",
            "Requirement already satisfied: numpy in /usr/local/lib/python3.6/dist-packages (from transformers) (1.18.4)\n",
            "Requirement already satisfied: requests in /usr/local/lib/python3.6/dist-packages (from transformers) (2.23.0)\n",
            "Requirement already satisfied: filelock in /usr/local/lib/python3.6/dist-packages (from transformers) (3.0.12)\n",
            "Requirement already satisfied: tqdm>=4.27 in /usr/local/lib/python3.6/dist-packages (from transformers) (4.41.1)\n",
            "Requirement already satisfied: six in /usr/local/lib/python3.6/dist-packages (from sacremoses->transformers) (1.12.0)\n",
            "Requirement already satisfied: click in /usr/local/lib/python3.6/dist-packages (from sacremoses->transformers) (7.1.2)\n",
            "Requirement already satisfied: joblib in /usr/local/lib/python3.6/dist-packages (from sacremoses->transformers) (0.15.1)\n",
            "Requirement already satisfied: certifi>=2017.4.17 in /usr/local/lib/python3.6/dist-packages (from requests->transformers) (2020.4.5.1)\n",
            "Requirement already satisfied: chardet<4,>=3.0.2 in /usr/local/lib/python3.6/dist-packages (from requests->transformers) (3.0.4)\n",
            "Requirement already satisfied: urllib3!=1.25.0,!=1.25.1,<1.26,>=1.21.1 in /usr/local/lib/python3.6/dist-packages (from requests->transformers) (1.24.3)\n",
            "Requirement already satisfied: idna<3,>=2.5 in /usr/local/lib/python3.6/dist-packages (from requests->transformers) (2.9)\n",
            "Building wheels for collected packages: sacremoses\n",
            "  Building wheel for sacremoses (setup.py) ... \u001b[?25l\u001b[?25hdone\n",
            "  Created wheel for sacremoses: filename=sacremoses-0.0.43-cp36-none-any.whl size=893260 sha256=a377cdc1fc05ae0b213b8292d03f3d7126cd78af8b244b70d495852bb0e29c85\n",
            "  Stored in directory: /root/.cache/pip/wheels/29/3c/fd/7ce5c3f0666dab31a50123635e6fb5e19ceb42ce38d4e58f45\n",
            "Successfully built sacremoses\n",
            "Installing collected packages: sacremoses, sentencepiece, tokenizers, transformers\n",
            "Successfully installed sacremoses-0.0.43 sentencepiece-0.1.91 tokenizers-0.7.0 transformers-2.10.0\n"
          ],
          "name": "stdout"
        }
      ]
    },
    {
      "cell_type": "code",
      "metadata": {
        "id": "DszBZ3XXrE-w",
        "colab_type": "code",
        "colab": {}
      },
      "source": [
        "import os\n",
        "\n",
        "import tensorflow as tf\n",
        "import matplotlib.pyplot as plt\n",
        "import pandas as pd\n",
        "import numpy as np\n",
        "import transformers\n",
        "from tokenizers import BertWordPieceTokenizer\n",
        "from sklearn.metrics import accuracy_score, roc_auc_score, f1_score\n",
        "from tensorflow.keras.callbacks import CSVLogger, Callback, ReduceLROnPlateau\n"
      ],
      "execution_count": 0,
      "outputs": []
    },
    {
      "cell_type": "code",
      "metadata": {
        "id": "A7gJWja1wHXh",
        "colab_type": "code",
        "colab": {}
      },
      "source": [
        "AUTO = tf.data.experimental.AUTOTUNE\n",
        "\n",
        "EPOCHS = 10\n",
        "BATCH_SIZE = 32\n",
        "MAX_LEN = 512"
      ],
      "execution_count": 0,
      "outputs": []
    },
    {
      "cell_type": "code",
      "metadata": {
        "id": "zwtrSX7DlC01",
        "colab_type": "code",
        "colab": {}
      },
      "source": [
        "def encode(texts, tokenizer, chunk_size=240, maxlen=512):\n",
        "    tokenizer.enable_truncation(max_length=maxlen)\n",
        "    tokenizer.enable_padding(max_length=maxlen)\n",
        "    all_ids = []\n",
        "    \n",
        "    for i in range(0, len(texts), chunk_size):\n",
        "        text_chunk = texts[i:i+chunk_size].tolist()\n",
        "        encs = tokenizer.encode_batch(text_chunk)\n",
        "        all_ids.extend([enc.ids for enc in encs])\n",
        "    \n",
        "    return np.array(all_ids)"
      ],
      "execution_count": 0,
      "outputs": []
    },
    {
      "cell_type": "code",
      "metadata": {
        "id": "eNXpDwfYm_zP",
        "colab_type": "code",
        "outputId": "1b95104f-dce4-4e1d-8544-f9e9e7446837",
        "colab": {
          "base_uri": "https://localhost:8080/",
          "height": 66,
          "referenced_widgets": [
            "fbbdd70c154645b7b7606956b36d64e8",
            "13781aee5bcd4fdcb14abcc5c62590f4",
            "76f9c1328aa74a8eb385d384f42e6dce",
            "1ffb91dc13ff4c7a81b206e7a0f436c5",
            "a3624de2c2ee41a89b3c46be124d3ef1",
            "12c17992881f4e038e3719005d1f6ccb",
            "8614ef0657034d60bc280f951f9aa077",
            "89a4b87a93314e06a2c039d2f71d98dd"
          ]
        }
      },
      "source": [
        "distilbert_version = \"distilbert-base-multilingual-cased\"\n",
        "tokenizer_pkg = transformers.DistilBertTokenizer.from_pretrained(distilbert_version)\n",
        "save_path = \"/content/\" + distilbert_version + \"/\"\n",
        "if not os.path.exists(save_path):\n",
        "    os.makedirs(save_path)\n",
        "tokenizer_pkg.save_pretrained(save_path)\n",
        "tokenizer = BertWordPieceTokenizer(distilbert_version + \"/vocab.txt\", lowercase=False)"
      ],
      "execution_count": 0,
      "outputs": [
        {
          "output_type": "display_data",
          "data": {
            "application/vnd.jupyter.widget-view+json": {
              "model_id": "fbbdd70c154645b7b7606956b36d64e8",
              "version_minor": 0,
              "version_major": 2
            },
            "text/plain": [
              "HBox(children=(FloatProgress(value=0.0, description='Downloading', max=995526.0, style=ProgressStyle(descripti…"
            ]
          },
          "metadata": {
            "tags": []
          }
        },
        {
          "output_type": "stream",
          "text": [
            "\n"
          ],
          "name": "stdout"
        }
      ]
    },
    {
      "cell_type": "code",
      "metadata": {
        "id": "JlaXraYAliai",
        "colab_type": "code",
        "colab": {}
      },
      "source": [
        "def get_data(file_path):\n",
        "  data = pd.read_csv(file_path)\n",
        "  x = encode(data.comment_text.astype(str), \n",
        "                      tokenizer, maxlen=MAX_LEN)\n",
        "  y = data.toxic.values\n",
        "  return x, y"
      ],
      "execution_count": 0,
      "outputs": []
    },
    {
      "cell_type": "code",
      "metadata": {
        "id": "2yfUzWYMvy06",
        "colab_type": "code",
        "colab": {}
      },
      "source": [
        "x_train, y_train = get_data(\"jigsaw-toxic-comment-train.csv\")\n",
        "train = (\n",
        "    tf.data.Dataset\n",
        "    .from_tensor_slices((x_train, y_train))\n",
        "    .repeat()\n",
        "    .shuffle(230)\n",
        "    .batch(BATCH_SIZE)\n",
        "    .prefetch(AUTO)\n",
        ")"
      ],
      "execution_count": 0,
      "outputs": []
    },
    {
      "cell_type": "code",
      "metadata": {
        "id": "pObwC1vv3sDp",
        "colab_type": "code",
        "colab": {}
      },
      "source": [
        "x_valid, y_valid = get_data(\"validation.csv\")\n",
        "valid = (\n",
        "    tf.data.Dataset\n",
        "    .from_tensor_slices((x_valid, y_valid))\n",
        "    .batch(BATCH_SIZE)\n",
        "    .cache()\n",
        "    .prefetch(AUTO)\n",
        ")"
      ],
      "execution_count": 0,
      "outputs": []
    },
    {
      "cell_type": "code",
      "metadata": {
        "id": "oAsciCh_98fh",
        "colab_type": "code",
        "colab": {}
      },
      "source": [
        "class RocAucEvaluation(Callback):\n",
        "    def __init__(self, validation_data=(), interval=1):\n",
        "        super(Callback, self).__init__()\n",
        "\n",
        "        self.interval = interval\n",
        "        self.x_val, self.y_val = validation_data\n",
        "\n",
        "    def on_epoch_end(self, epoch, logs={}):\n",
        "        if epoch % self.interval == 0:\n",
        "            y_pred = self.model.predict(self.x_val, verbose=0)\n",
        "            score = roc_auc_score(self.y_val, y_pred)\n",
        "            print(\"\\n ROC-AUC - epoch: {:d} - score: {:.6f}\".format(epoch+1, score))"
      ],
      "execution_count": 0,
      "outputs": []
    },
    {
      "cell_type": "code",
      "metadata": {
        "id": "AOCUV0hN9jUs",
        "colab_type": "code",
        "colab": {}
      },
      "source": [
        "def get_callbacks(log_filepath=\"log.csv\"):\n",
        "  rocauc = RocAucEvaluation((x_valid, y_valid), interval=1)\n",
        "  log = CSVLogger(log_filepath)\n",
        "  reduceLROnPlat = ReduceLROnPlateau(monitor='val_loss',  \n",
        "                                      factor=0.3, patience=3, \n",
        "                                      verbose=1, mode='auto', \n",
        "                                      epsilon=0.0001, cooldown=1, min_lr=0.000001)\n",
        "\n",
        "  return [\n",
        "    reduceLROnPlat,\n",
        "    log,\n",
        "    rocauc,\n",
        "  ]"
      ],
      "execution_count": 0,
      "outputs": []
    },
    {
      "cell_type": "code",
      "metadata": {
        "id": "0nezb76LTREm",
        "colab_type": "code",
        "outputId": "0be4eba1-4767-43d4-ee7a-84ea0f26eac2",
        "colab": {
          "base_uri": "https://localhost:8080/",
          "height": 115,
          "referenced_widgets": [
            "e2b942bb3f2f44ebb08d3bc7d2ed4f05",
            "2d36e6c629504d4dbbfb5e4aab4b3cd9",
            "5f4978a957ab4cecb6633d6c2a9e5c3b",
            "93a917d3e2c045db8feaa784110a170a",
            "285827996df14983b6552be2d83f17df",
            "2bc6b764aa10484db36eb5f6104c5eae",
            "a2653aeb2a3441de9047741e043c92cd",
            "a172c61077a843eb86189a6f77919987",
            "53fce35cc4514565981e9007a7084c59",
            "ac8a97c68a9d4724a0d88849376520aa",
            "7260c024ac904c11853c6e2bd6bfa289",
            "79e6de0c25c2425687a694811d96f7ba",
            "4527d3ea353b4b389413b9fa3412dc25",
            "03662b81974241009d86eb0d673f25b1",
            "5f78f4c2e7de46cabc9ab0bcb268dcb1",
            "1ac9f78762264dc88f5b448af3ccb679"
          ]
        }
      },
      "source": [
        "transformer = transformers.TFDistilBertModel.from_pretrained(distilbert_version)"
      ],
      "execution_count": 0,
      "outputs": [
        {
          "output_type": "display_data",
          "data": {
            "application/vnd.jupyter.widget-view+json": {
              "model_id": "e2b942bb3f2f44ebb08d3bc7d2ed4f05",
              "version_minor": 0,
              "version_major": 2
            },
            "text/plain": [
              "HBox(children=(FloatProgress(value=0.0, description='Downloading', max=466.0, style=ProgressStyle(description_…"
            ]
          },
          "metadata": {
            "tags": []
          }
        },
        {
          "output_type": "stream",
          "text": [
            "\n"
          ],
          "name": "stdout"
        },
        {
          "output_type": "display_data",
          "data": {
            "application/vnd.jupyter.widget-view+json": {
              "model_id": "53fce35cc4514565981e9007a7084c59",
              "version_minor": 0,
              "version_major": 2
            },
            "text/plain": [
              "HBox(children=(FloatProgress(value=0.0, description='Downloading', max=910749124.0, style=ProgressStyle(descri…"
            ]
          },
          "metadata": {
            "tags": []
          }
        },
        {
          "output_type": "stream",
          "text": [
            "\n"
          ],
          "name": "stdout"
        }
      ]
    },
    {
      "cell_type": "code",
      "metadata": {
        "id": "wARQDo8ktYba",
        "colab_type": "code",
        "colab": {}
      },
      "source": [
        "input_word_ids = tf.keras.Input(shape=(MAX_LEN,), dtype=tf.int32, name=\"input_word_ids\")\n",
        "\n",
        "embed = transformer.weights[0].numpy()"
      ],
      "execution_count": 0,
      "outputs": []
    },
    {
      "cell_type": "markdown",
      "metadata": {
        "id": "MtGc7eilLRhN",
        "colab_type": "text"
      },
      "source": [
        "Bidirectional LSTM from Scratch"
      ]
    },
    {
      "cell_type": "code",
      "metadata": {
        "id": "XeyhochLGJMI",
        "colab_type": "code",
        "colab": {}
      },
      "source": [
        "input_word_ids = tf.keras.Input(shape=(MAX_LEN,), dtype=tf.int32, name=\"input_word_ids\")\n",
        "\n",
        "embed = transformer.weights[0].numpy()\n",
        "rnn_model_scratch = tf.keras.Sequential([\n",
        "    tf.keras.layers.Embedding(np.shape(embed)[0], np.shape(embed)[1],\n",
        "                      input_length=MAX_LEN),\n",
        "    tf.keras.layers.Bidirectional(tf.keras.layers.LSTM(BATCH_SIZE)),\n",
        "    tf.keras.layers.Dense(BATCH_SIZE, activation='relu'),\n",
        "    tf.keras.layers.Dense(1, activation='sigmoid'),\n",
        "])"
      ],
      "execution_count": 0,
      "outputs": []
    },
    {
      "cell_type": "code",
      "metadata": {
        "id": "Dd2CWkeTI0U7",
        "colab_type": "code",
        "colab": {}
      },
      "source": [
        "rnn_model_scratch.compile(tf.keras.optimizers.Adam(lr=0.001), \n",
        "                  loss='binary_crossentropy', \n",
        "                  metrics=['accuracy'])"
      ],
      "execution_count": 0,
      "outputs": []
    },
    {
      "cell_type": "code",
      "metadata": {
        "id": "E12lehWvVzx3",
        "colab_type": "code",
        "outputId": "a8af4d54-3b26-4ea5-c8ad-0fe611818b18",
        "colab": {
          "base_uri": "https://localhost:8080/"
        }
      },
      "source": [
        "rnn_model_scratch.summary()"
      ],
      "execution_count": 0,
      "outputs": [
        {
          "output_type": "stream",
          "text": [
            "Model: \"sequential\"\n",
            "_________________________________________________________________\n",
            "Layer (type)                 Output Shape              Param #   \n",
            "=================================================================\n",
            "embedding (Embedding)        (None, 512, 768)          91812096  \n",
            "_________________________________________________________________\n",
            "bidirectional (Bidirectional (None, 64)                205056    \n",
            "_________________________________________________________________\n",
            "dense (Dense)                (None, 32)                2080      \n",
            "_________________________________________________________________\n",
            "dense_1 (Dense)              (None, 1)                 33        \n",
            "=================================================================\n",
            "Total params: 92,019,265\n",
            "Trainable params: 92,019,265\n",
            "Non-trainable params: 0\n",
            "_________________________________________________________________\n"
          ],
          "name": "stdout"
        }
      ]
    },
    {
      "cell_type": "code",
      "metadata": {
        "id": "NEAPbHJsI6-B",
        "colab_type": "code",
        "outputId": "8ece6aa7-aa73-4e6d-d093-a04e21d78fe9",
        "colab": {
          "base_uri": "https://localhost:8080/",
          "height": 816
        }
      },
      "source": [
        "history = rnn_model_scratch.fit(train, epochs=EPOCHS,\n",
        "                        steps_per_epoch=BATCH_SIZE, callbacks=get_callbacks(\"scratch_lstm_log.csv\"),\n",
        "                    validation_data=valid)"
      ],
      "execution_count": 0,
      "outputs": [
        {
          "output_type": "stream",
          "text": [
            "WARNING:tensorflow:`epsilon` argument is deprecated and will be removed, use `min_delta` instead.\n",
            "Epoch 1/10\n",
            "32/32 [==============================] - ETA: 0s - loss: 0.3655 - accuracy: 0.8887\n",
            " ROC-AUC - epoch: 1 - score: 0.588017\n",
            "32/32 [==============================] - 189s 6s/step - loss: 0.3655 - accuracy: 0.8887 - val_loss: 0.4299 - val_accuracy: 0.8462 - lr: 0.0010\n",
            "Epoch 2/10\n",
            "32/32 [==============================] - ETA: 0s - loss: 0.2537 - accuracy: 0.9062\n",
            " ROC-AUC - epoch: 2 - score: 0.573504\n",
            "32/32 [==============================] - 185s 6s/step - loss: 0.2537 - accuracy: 0.9062 - val_loss: 0.4575 - val_accuracy: 0.8464 - lr: 0.0010\n",
            "Epoch 3/10\n",
            "32/32 [==============================] - ETA: 0s - loss: 0.2382 - accuracy: 0.9199\n",
            " ROC-AUC - epoch: 3 - score: 0.577791\n",
            "32/32 [==============================] - 187s 6s/step - loss: 0.2382 - accuracy: 0.9199 - val_loss: 0.5098 - val_accuracy: 0.7730 - lr: 0.0010\n",
            "Epoch 4/10\n",
            "32/32 [==============================] - ETA: 0s - loss: 0.2284 - accuracy: 0.9199\n",
            "Epoch 00004: ReduceLROnPlateau reducing learning rate to 0.0003000000142492354.\n",
            "\n",
            " ROC-AUC - epoch: 4 - score: 0.589309\n",
            "32/32 [==============================] - 183s 6s/step - loss: 0.2284 - accuracy: 0.9199 - val_loss: 0.4947 - val_accuracy: 0.8391 - lr: 0.0010\n",
            "Epoch 5/10\n",
            "32/32 [==============================] - ETA: 0s - loss: 0.1969 - accuracy: 0.9355\n",
            " ROC-AUC - epoch: 5 - score: 0.590047\n",
            "32/32 [==============================] - 184s 6s/step - loss: 0.1969 - accuracy: 0.9355 - val_loss: 0.4721 - val_accuracy: 0.8210 - lr: 3.0000e-04\n",
            "Epoch 6/10\n",
            "32/32 [==============================] - ETA: 0s - loss: 0.1964 - accuracy: 0.9346\n",
            " ROC-AUC - epoch: 6 - score: 0.588664\n",
            "32/32 [==============================] - 188s 6s/step - loss: 0.1964 - accuracy: 0.9346 - val_loss: 0.5230 - val_accuracy: 0.7456 - lr: 3.0000e-04\n",
            "Epoch 7/10\n",
            "32/32 [==============================] - ETA: 0s - loss: 0.2130 - accuracy: 0.9307\n",
            "Epoch 00007: ReduceLROnPlateau reducing learning rate to 9.000000427477062e-05.\n",
            "\n",
            " ROC-AUC - epoch: 7 - score: 0.606838\n",
            "32/32 [==============================] - 198s 6s/step - loss: 0.2130 - accuracy: 0.9307 - val_loss: 0.4733 - val_accuracy: 0.8112 - lr: 3.0000e-04\n",
            "Epoch 8/10\n",
            "32/32 [==============================] - ETA: 0s - loss: 0.1839 - accuracy: 0.9385\n",
            " ROC-AUC - epoch: 8 - score: 0.605254\n",
            "32/32 [==============================] - 194s 6s/step - loss: 0.1839 - accuracy: 0.9385 - val_loss: 0.4765 - val_accuracy: 0.8015 - lr: 9.0000e-05\n",
            "Epoch 9/10\n",
            "32/32 [==============================] - ETA: 0s - loss: 0.1547 - accuracy: 0.9414\n",
            " ROC-AUC - epoch: 9 - score: 0.604567\n",
            "32/32 [==============================] - 203s 6s/step - loss: 0.1547 - accuracy: 0.9414 - val_loss: 0.4806 - val_accuracy: 0.8006 - lr: 9.0000e-05\n",
            "Epoch 10/10\n",
            "32/32 [==============================] - ETA: 0s - loss: 0.1465 - accuracy: 0.9551\n",
            "Epoch 00010: ReduceLROnPlateau reducing learning rate to 2.700000040931627e-05.\n",
            "\n",
            " ROC-AUC - epoch: 10 - score: 0.605942\n",
            "32/32 [==============================] - 202s 6s/step - loss: 0.1465 - accuracy: 0.9551 - val_loss: 0.4876 - val_accuracy: 0.8079 - lr: 9.0000e-05\n"
          ],
          "name": "stdout"
        }
      ]
    },
    {
      "cell_type": "code",
      "metadata": {
        "id": "yH8r3ex1JAES",
        "colab_type": "code",
        "colab": {}
      },
      "source": [
        "rnn_model_scratch_no_train = tf.keras.Sequential([\n",
        "    tf.keras.layers.Embedding(np.shape(embed)[0], np.shape(embed)[1],\n",
        "                      input_length=MAX_LEN),\n",
        "    tf.keras.layers.Bidirectional(tf.keras.layers.LSTM(BATCH_SIZE)),\n",
        "    tf.keras.layers.Dense(BATCH_SIZE, activation='relu'),\n",
        "    tf.keras.layers.Dense(1, activation='sigmoid'),\n",
        "])"
      ],
      "execution_count": 0,
      "outputs": []
    },
    {
      "cell_type": "code",
      "metadata": {
        "id": "NpvK5dWJqz8H",
        "colab_type": "code",
        "colab": {}
      },
      "source": [
        "rnn_model_scratch_no_train.compile(tf.keras.optimizers.Adam(lr=0.001), \n",
        "                  loss='binary_crossentropy', \n",
        "                  metrics=['accuracy'])"
      ],
      "execution_count": 0,
      "outputs": []
    },
    {
      "cell_type": "code",
      "metadata": {
        "id": "s8vJOX5Tq2VB",
        "colab_type": "code",
        "outputId": "25be54bc-54c1-496d-9638-b20234063731",
        "colab": {
          "base_uri": "https://localhost:8080/",
          "height": 341
        }
      },
      "source": [
        "y_pred = rnn_model_scratch_no_train.predict(x_train, verbose=0)\n",
        "score = accuracy_score(y_train, y_pred)\n",
        "print(\"\\n ROC-AUC - epoch: {:d} - score: {:.6f}\".format(0, score))"
      ],
      "execution_count": 0,
      "outputs": [
        {
          "output_type": "error",
          "ename": "ValueError",
          "evalue": "ignored",
          "traceback": [
            "\u001b[0;31m---------------------------------------------------------------------------\u001b[0m",
            "\u001b[0;31mValueError\u001b[0m                                Traceback (most recent call last)",
            "\u001b[0;32m<ipython-input-52-e66520b52920>\u001b[0m in \u001b[0;36m<module>\u001b[0;34m()\u001b[0m\n\u001b[1;32m      1\u001b[0m \u001b[0my_pred\u001b[0m \u001b[0;34m=\u001b[0m \u001b[0mrnn_model_scratch_no_train\u001b[0m\u001b[0;34m.\u001b[0m\u001b[0mpredict\u001b[0m\u001b[0;34m(\u001b[0m\u001b[0mx_train\u001b[0m\u001b[0;34m,\u001b[0m \u001b[0mverbose\u001b[0m\u001b[0;34m=\u001b[0m\u001b[0;36m0\u001b[0m\u001b[0;34m)\u001b[0m\u001b[0;34m\u001b[0m\u001b[0;34m\u001b[0m\u001b[0m\n\u001b[0;32m----> 2\u001b[0;31m \u001b[0mscore\u001b[0m \u001b[0;34m=\u001b[0m \u001b[0maccuracy_score\u001b[0m\u001b[0;34m(\u001b[0m\u001b[0my_train\u001b[0m\u001b[0;34m,\u001b[0m \u001b[0my_pred\u001b[0m\u001b[0;34m)\u001b[0m\u001b[0;34m\u001b[0m\u001b[0;34m\u001b[0m\u001b[0m\n\u001b[0m\u001b[1;32m      3\u001b[0m \u001b[0mprint\u001b[0m\u001b[0;34m(\u001b[0m\u001b[0;34m\"\\n ROC-AUC - epoch: {:d} - score: {:.6f}\"\u001b[0m\u001b[0;34m.\u001b[0m\u001b[0mformat\u001b[0m\u001b[0;34m(\u001b[0m\u001b[0;36m0\u001b[0m\u001b[0;34m,\u001b[0m \u001b[0mscore\u001b[0m\u001b[0;34m)\u001b[0m\u001b[0;34m)\u001b[0m\u001b[0;34m\u001b[0m\u001b[0;34m\u001b[0m\u001b[0m\n",
            "\u001b[0;32m/usr/local/lib/python3.6/dist-packages/sklearn/metrics/_classification.py\u001b[0m in \u001b[0;36maccuracy_score\u001b[0;34m(y_true, y_pred, normalize, sample_weight)\u001b[0m\n\u001b[1;32m    183\u001b[0m \u001b[0;34m\u001b[0m\u001b[0m\n\u001b[1;32m    184\u001b[0m     \u001b[0;31m# Compute accuracy for each possible representation\u001b[0m\u001b[0;34m\u001b[0m\u001b[0;34m\u001b[0m\u001b[0;34m\u001b[0m\u001b[0m\n\u001b[0;32m--> 185\u001b[0;31m     \u001b[0my_type\u001b[0m\u001b[0;34m,\u001b[0m \u001b[0my_true\u001b[0m\u001b[0;34m,\u001b[0m \u001b[0my_pred\u001b[0m \u001b[0;34m=\u001b[0m \u001b[0m_check_targets\u001b[0m\u001b[0;34m(\u001b[0m\u001b[0my_true\u001b[0m\u001b[0;34m,\u001b[0m \u001b[0my_pred\u001b[0m\u001b[0;34m)\u001b[0m\u001b[0;34m\u001b[0m\u001b[0;34m\u001b[0m\u001b[0m\n\u001b[0m\u001b[1;32m    186\u001b[0m     \u001b[0mcheck_consistent_length\u001b[0m\u001b[0;34m(\u001b[0m\u001b[0my_true\u001b[0m\u001b[0;34m,\u001b[0m \u001b[0my_pred\u001b[0m\u001b[0;34m,\u001b[0m \u001b[0msample_weight\u001b[0m\u001b[0;34m)\u001b[0m\u001b[0;34m\u001b[0m\u001b[0;34m\u001b[0m\u001b[0m\n\u001b[1;32m    187\u001b[0m     \u001b[0;32mif\u001b[0m \u001b[0my_type\u001b[0m\u001b[0;34m.\u001b[0m\u001b[0mstartswith\u001b[0m\u001b[0;34m(\u001b[0m\u001b[0;34m'multilabel'\u001b[0m\u001b[0;34m)\u001b[0m\u001b[0;34m:\u001b[0m\u001b[0;34m\u001b[0m\u001b[0;34m\u001b[0m\u001b[0m\n",
            "\u001b[0;32m/usr/local/lib/python3.6/dist-packages/sklearn/metrics/_classification.py\u001b[0m in \u001b[0;36m_check_targets\u001b[0;34m(y_true, y_pred)\u001b[0m\n\u001b[1;32m     88\u001b[0m     \u001b[0;32mif\u001b[0m \u001b[0mlen\u001b[0m\u001b[0;34m(\u001b[0m\u001b[0my_type\u001b[0m\u001b[0;34m)\u001b[0m \u001b[0;34m>\u001b[0m \u001b[0;36m1\u001b[0m\u001b[0;34m:\u001b[0m\u001b[0;34m\u001b[0m\u001b[0;34m\u001b[0m\u001b[0m\n\u001b[1;32m     89\u001b[0m         raise ValueError(\"Classification metrics can't handle a mix of {0} \"\n\u001b[0;32m---> 90\u001b[0;31m                          \"and {1} targets\".format(type_true, type_pred))\n\u001b[0m\u001b[1;32m     91\u001b[0m \u001b[0;34m\u001b[0m\u001b[0m\n\u001b[1;32m     92\u001b[0m     \u001b[0;31m# We can't have more than one value on y_type => The set is no more needed\u001b[0m\u001b[0;34m\u001b[0m\u001b[0;34m\u001b[0m\u001b[0;34m\u001b[0m\u001b[0m\n",
            "\u001b[0;31mValueError\u001b[0m: Classification metrics can't handle a mix of binary and continuous targets"
          ]
        }
      ]
    },
    {
      "cell_type": "code",
      "metadata": {
        "id": "mJdS4Dd-q80T",
        "colab_type": "code",
        "outputId": "073e3289-1a0f-4838-ed6e-62f458c54b0a",
        "colab": {
          "base_uri": "https://localhost:8080/",
          "height": 51
        }
      },
      "source": [
        "y_pred = rnn_model_scratch_no_train.predict(x_valid, verbose=0)\n",
        "accuracy = accuracy_score(y_train, y_pred)\n",
        "score = roc_auc_score(y_valid, y_pred)\n",
        "print(\"\\n accuracy - epoch: {:d} - score: {:.6f}\".format(0, accuracy))\n",
        "print(\"\\n ROC-AUC - epoch: {:d} - score: {:.6f}\".format(0, score))"
      ],
      "execution_count": 0,
      "outputs": [
        {
          "output_type": "stream",
          "text": [
            "\n",
            " ROC-AUC - epoch: 0 - score: 0.473881\n"
          ],
          "name": "stdout"
        }
      ]
    },
    {
      "cell_type": "code",
      "metadata": {
        "id": "v85ThInyrl6v",
        "colab_type": "code",
        "colab": {}
      },
      "source": [
        "%matplotlib inline\n",
        "import matplotlib.pyplot as plt"
      ],
      "execution_count": 0,
      "outputs": []
    },
    {
      "cell_type": "code",
      "metadata": {
        "id": "2newz6xgOXZU",
        "colab_type": "code",
        "outputId": "a9879acf-e0a1-4c9b-d88b-2b6f798de746",
        "colab": {
          "base_uri": "https://localhost:8080/",
          "height": 164
        }
      },
      "source": [
        "x_valid.hist()"
      ],
      "execution_count": 0,
      "outputs": [
        {
          "output_type": "error",
          "ename": "AttributeError",
          "evalue": "ignored",
          "traceback": [
            "\u001b[0;31m---------------------------------------------------------------------------\u001b[0m",
            "\u001b[0;31mAttributeError\u001b[0m                            Traceback (most recent call last)",
            "\u001b[0;32m<ipython-input-56-c5152dc22cca>\u001b[0m in \u001b[0;36m<module>\u001b[0;34m()\u001b[0m\n\u001b[0;32m----> 1\u001b[0;31m \u001b[0mx_valid\u001b[0m\u001b[0;34m.\u001b[0m\u001b[0mhist\u001b[0m\u001b[0;34m(\u001b[0m\u001b[0;34m)\u001b[0m\u001b[0;34m\u001b[0m\u001b[0;34m\u001b[0m\u001b[0m\n\u001b[0m",
            "\u001b[0;31mAttributeError\u001b[0m: 'numpy.ndarray' object has no attribute 'hist'"
          ]
        }
      ]
    },
    {
      "cell_type": "code",
      "metadata": {
        "id": "CjEVzyOaOs0U",
        "colab_type": "code",
        "outputId": "ee6c956b-0457-49c9-fa6d-ffd08f67065b",
        "colab": {
          "base_uri": "https://localhost:8080/",
          "height": 282
        }
      },
      "source": [
        "from collections import Counter\n",
        "\n",
        "data = pd.read_csv(\"validation.csv\")\n",
        "freqs = Counter(data.lang)\n",
        "print(freqs)\n",
        "xvals = range(len(freqs.values()))\n",
        "plt.bar(xvals, freqs.values() , color='#37777D')\n",
        "plt.xticks(xvals, freqs.keys())\n",
        "plt.show() "
      ],
      "execution_count": 0,
      "outputs": [
        {
          "output_type": "stream",
          "text": [
            "Counter({'tr': 3000, 'es': 2500, 'it': 2500})\n"
          ],
          "name": "stdout"
        },
        {
          "output_type": "display_data",
          "data": {
            "image/png": "[encoded data removed]",
            "text/plain": [
              "<Figure size 432x288 with 1 Axes>"
            ]
          },
          "metadata": {
            "tags": [],
            "needs_background": "light"
          }
        }
      ]
    },
    {
      "cell_type": "markdown",
      "metadata": {
        "id": "g7MOd4wvT1st",
        "colab_type": "text"
      },
      "source": [
        "Pretrained *DistilBERT*"
      ]
    },
    {
      "cell_type": "code",
      "metadata": {
        "id": "HD0gtQVpGTHh",
        "colab_type": "code",
        "colab": {}
      },
      "source": [
        "input_word_ids = tf.keras.Input(shape=(MAX_LEN,), dtype=tf.int32, name=\"input_word_ids\")\n",
        "\n",
        "embed = transformer.weights[0].numpy()\n",
        "pretrained_model = tf.keras.Sequential([\n",
        "    tf.keras.layers.Embedding(np.shape(embed)[0], np.shape(embed)[1],\n",
        "                      input_length=MAX_LEN, weights=[embed],\n",
        "                      trainable=False),\n",
        "    tf.keras.layers.Bidirectional(tf.keras.layers.LSTM(BATCH_SIZE)),\n",
        "    tf.keras.layers.Dense(BATCH_SIZE, activation='relu'),\n",
        "    tf.keras.layers.Dense(1, activation='sigmoid'),\n",
        "])"
      ],
      "execution_count": 0,
      "outputs": []
    },
    {
      "cell_type": "code",
      "metadata": {
        "id": "YQyxBe-Q6LKD",
        "colab_type": "code",
        "colab": {}
      },
      "source": [
        "pretrained_model.compile(tf.keras.optimizers.Adam(lr=0.001), \n",
        "                  loss='binary_crossentropy', \n",
        "                  metrics=['accuracy'])"
      ],
      "execution_count": 0,
      "outputs": []
    },
    {
      "cell_type": "code",
      "metadata": {
        "id": "zbtD_LUS893z",
        "colab_type": "code",
        "outputId": "83a2ce67-2a67-417b-dcea-fd8687095716",
        "colab": {
          "base_uri": "https://localhost:8080/",
          "height": 782
        }
      },
      "source": [
        "history = pretrained_model.fit(train, epochs=EPOCHS,\n",
        "                        steps_per_epoch=BATCH_SIZE, callbacks=get_callbacks(\"pretrained_distilbert_log.csv\"),\n",
        "                    validation_data=valid)"
      ],
      "execution_count": 0,
      "outputs": [
        {
          "output_type": "stream",
          "text": [
            "WARNING:tensorflow:`epsilon` argument is deprecated and will be removed, use `min_delta` instead.\n",
            "Epoch 1/10\n",
            "32/32 [==============================] - ETA: 0s - loss: 0.4206 - accuracy: 0.8896\n",
            " ROC-AUC - epoch: 1 - score: 0.515492\n",
            "32/32 [==============================] - 124s 4s/step - loss: 0.4206 - accuracy: 0.8896 - val_loss: 0.4316 - val_accuracy: 0.8462 - lr: 0.0010\n",
            "Epoch 2/10\n",
            "32/32 [==============================] - ETA: 0s - loss: 0.2946 - accuracy: 0.9121\n",
            " ROC-AUC - epoch: 2 - score: 0.536517\n",
            "32/32 [==============================] - 124s 4s/step - loss: 0.2946 - accuracy: 0.9121 - val_loss: 0.4621 - val_accuracy: 0.8462 - lr: 0.0010\n",
            "Epoch 3/10\n",
            "32/32 [==============================] - ETA: 0s - loss: 0.3210 - accuracy: 0.8916\n",
            " ROC-AUC - epoch: 3 - score: 0.574869\n",
            "32/32 [==============================] - 124s 4s/step - loss: 0.3210 - accuracy: 0.8916 - val_loss: 0.4259 - val_accuracy: 0.8462 - lr: 0.0010\n",
            "Epoch 4/10\n",
            "32/32 [==============================] - ETA: 0s - loss: 0.3012 - accuracy: 0.9014\n",
            " ROC-AUC - epoch: 4 - score: 0.592601\n",
            "32/32 [==============================] - 124s 4s/step - loss: 0.3012 - accuracy: 0.9014 - val_loss: 0.4304 - val_accuracy: 0.8462 - lr: 0.0010\n",
            "Epoch 5/10\n",
            "32/32 [==============================] - ETA: 0s - loss: 0.2568 - accuracy: 0.9111\n",
            " ROC-AUC - epoch: 5 - score: 0.627955\n",
            "32/32 [==============================] - 124s 4s/step - loss: 0.2568 - accuracy: 0.9111 - val_loss: 0.4335 - val_accuracy: 0.8462 - lr: 0.0010\n",
            "Epoch 6/10\n",
            "32/32 [==============================] - ETA: 0s - loss: 0.2429 - accuracy: 0.9014\n",
            "Epoch 00006: ReduceLROnPlateau reducing learning rate to 0.0003000000142492354.\n",
            "\n",
            " ROC-AUC - epoch: 6 - score: 0.634320\n",
            "32/32 [==============================] - 124s 4s/step - loss: 0.2429 - accuracy: 0.9014 - val_loss: 0.4486 - val_accuracy: 0.8431 - lr: 0.0010\n",
            "Epoch 7/10\n",
            "32/32 [==============================] - ETA: 0s - loss: 0.2369 - accuracy: 0.9238\n",
            " ROC-AUC - epoch: 7 - score: 0.649744\n",
            "32/32 [==============================] - 125s 4s/step - loss: 0.2369 - accuracy: 0.9238 - val_loss: 0.4649 - val_accuracy: 0.8289 - lr: 3.0000e-04\n",
            "Epoch 8/10\n",
            "32/32 [==============================] - ETA: 0s - loss: 0.2097 - accuracy: 0.9258\n",
            " ROC-AUC - epoch: 8 - score: 0.662293\n",
            "32/32 [==============================] - 124s 4s/step - loss: 0.2097 - accuracy: 0.9258 - val_loss: 0.4829 - val_accuracy: 0.7713 - lr: 3.0000e-04\n",
            "Epoch 9/10\n",
            "32/32 [==============================] - ETA: 0s - loss: 0.2007 - accuracy: 0.9297\n",
            "Epoch 00009: ReduceLROnPlateau reducing learning rate to 9.000000427477062e-05.\n",
            "\n",
            " ROC-AUC - epoch: 9 - score: 0.666275\n",
            "32/32 [==============================] - 124s 4s/step - loss: 0.2007 - accuracy: 0.9297 - val_loss: 0.5693 - val_accuracy: 0.6378 - lr: 3.0000e-04\n",
            "Epoch 10/10\n",
            "32/32 [==============================] - ETA: 0s - loss: 0.1921 - accuracy: 0.9307\n",
            " ROC-AUC - epoch: 10 - score: 0.667222\n",
            "32/32 [==============================] - 123s 4s/step - loss: 0.1921 - accuracy: 0.9307 - val_loss: 0.5656 - val_accuracy: 0.6478 - lr: 9.0000e-05\n"
          ],
          "name": "stdout"
        }
      ]
    },
    {
      "cell_type": "markdown",
      "metadata": {
        "id": "liGKVjjOLYoN",
        "colab_type": "text"
      },
      "source": [
        "Pretrained DistilBert with *attention*"
      ]
    },
    {
      "cell_type": "code",
      "metadata": {
        "id": "4K766YlHGISb",
        "colab_type": "code",
        "colab": {}
      },
      "source": [
        "embedding = tf.keras.layers.Embedding(np.shape(embed)[0], np.shape(embed)[1],\n",
        "                      input_length=MAX_LEN, weights=[embed],\n",
        "                      trainable=False)(input_word_ids)\n",
        "bi_lstm = tf.keras.layers.Bidirectional(tf.keras.layers.LSTM(BATCH_SIZE))(embedding)\n",
        "attention = tf.keras.layers.Attention()([bi_lstm, bi_lstm])\n",
        "dense1 = tf.keras.layers.Dense(BATCH_SIZE, activation='relu')(attention)\n",
        "dense2 = tf.keras.layers.Dense(1, activation='sigmoid')(dense1)\n",
        "\n",
        "pretrained_with_attn = tf.keras.Model(inputs=input_word_ids, outputs=dense2)\n",
        "# pretrained_with_attn.add(tf.keras.layers.Attention())\n"
      ],
      "execution_count": 0,
      "outputs": []
    },
    {
      "cell_type": "code",
      "metadata": {
        "id": "78Fq2884GL8_",
        "colab_type": "code",
        "colab": {}
      },
      "source": [
        "pretrained_with_attn.compile(tf.keras.optimizers.Adam(lr=0.001), \n",
        "                  loss='binary_crossentropy', \n",
        "                  metrics=['accuracy'])"
      ],
      "execution_count": 0,
      "outputs": []
    },
    {
      "cell_type": "code",
      "metadata": {
        "id": "HUnxWae4GFfq",
        "colab_type": "code",
        "outputId": "4fe59dcb-f3fb-4bc2-90fb-0ffd6d8f1343",
        "colab": {
          "base_uri": "https://localhost:8080/",
          "height": 816
        }
      },
      "source": [
        "history = pretrained_with_attn.fit(train, epochs=EPOCHS,\n",
        "                        steps_per_epoch=BATCH_SIZE, callbacks=get_callbacks(\"pretrained_with_attn.csv\"),\n",
        "                    validation_data=valid)"
      ],
      "execution_count": 0,
      "outputs": [
        {
          "output_type": "stream",
          "text": [
            "WARNING:tensorflow:`epsilon` argument is deprecated and will be removed, use `min_delta` instead.\n",
            "Epoch 1/10\n",
            "32/32 [==============================] - ETA: 0s - loss: 0.3952 - accuracy: 0.8926\n",
            " ROC-AUC - epoch: 1 - score: 0.496610\n",
            "32/32 [==============================] - 123s 4s/step - loss: 0.3952 - accuracy: 0.8926 - val_loss: 0.4348 - val_accuracy: 0.8462 - lr: 0.0010\n",
            "Epoch 2/10\n",
            "32/32 [==============================] - ETA: 0s - loss: 0.3256 - accuracy: 0.9014\n",
            " ROC-AUC - epoch: 2 - score: 0.496674\n",
            "32/32 [==============================] - 122s 4s/step - loss: 0.3256 - accuracy: 0.9014 - val_loss: 0.4399 - val_accuracy: 0.8462 - lr: 0.0010\n",
            "Epoch 3/10\n",
            "32/32 [==============================] - ETA: 0s - loss: 0.3439 - accuracy: 0.8916\n",
            " ROC-AUC - epoch: 3 - score: 0.498411\n",
            "32/32 [==============================] - 122s 4s/step - loss: 0.3439 - accuracy: 0.8916 - val_loss: 0.4349 - val_accuracy: 0.8462 - lr: 0.0010\n",
            "Epoch 4/10\n",
            "32/32 [==============================] - ETA: 0s - loss: 0.2987 - accuracy: 0.9121\n",
            "Epoch 00004: ReduceLROnPlateau reducing learning rate to 0.0003000000142492354.\n",
            "\n",
            " ROC-AUC - epoch: 4 - score: 0.498492\n",
            "32/32 [==============================] - 122s 4s/step - loss: 0.2987 - accuracy: 0.9121 - val_loss: 0.4639 - val_accuracy: 0.8462 - lr: 0.0010\n",
            "Epoch 5/10\n",
            "32/32 [==============================] - ETA: 0s - loss: 0.3191 - accuracy: 0.9043\n",
            " ROC-AUC - epoch: 5 - score: 0.499715\n",
            "32/32 [==============================] - 123s 4s/step - loss: 0.3191 - accuracy: 0.9043 - val_loss: 0.4435 - val_accuracy: 0.8462 - lr: 3.0000e-04\n",
            "Epoch 6/10\n",
            "32/32 [==============================] - ETA: 0s - loss: 0.3384 - accuracy: 0.8945\n",
            " ROC-AUC - epoch: 6 - score: 0.500319\n",
            "32/32 [==============================] - 123s 4s/step - loss: 0.3384 - accuracy: 0.8945 - val_loss: 0.4376 - val_accuracy: 0.8462 - lr: 3.0000e-04\n",
            "Epoch 7/10\n",
            "32/32 [==============================] - ETA: 0s - loss: 0.3330 - accuracy: 0.8965\n",
            "Epoch 00007: ReduceLROnPlateau reducing learning rate to 9.000000427477062e-05.\n",
            "\n",
            " ROC-AUC - epoch: 7 - score: 0.500170\n",
            "32/32 [==============================] - 123s 4s/step - loss: 0.3330 - accuracy: 0.8965 - val_loss: 0.4382 - val_accuracy: 0.8462 - lr: 3.0000e-04\n",
            "Epoch 8/10\n",
            "32/32 [==============================] - ETA: 0s - loss: 0.3010 - accuracy: 0.9111\n",
            " ROC-AUC - epoch: 8 - score: 0.500306\n",
            "32/32 [==============================] - 123s 4s/step - loss: 0.3010 - accuracy: 0.9111 - val_loss: 0.4408 - val_accuracy: 0.8462 - lr: 9.0000e-05\n",
            "Epoch 9/10\n",
            "32/32 [==============================] - ETA: 0s - loss: 0.3090 - accuracy: 0.9072\n",
            " ROC-AUC - epoch: 9 - score: 0.500440\n",
            "32/32 [==============================] - 123s 4s/step - loss: 0.3090 - accuracy: 0.9072 - val_loss: 0.4440 - val_accuracy: 0.8462 - lr: 9.0000e-05\n",
            "Epoch 10/10\n",
            "32/32 [==============================] - ETA: 0s - loss: 0.2844 - accuracy: 0.9180\n",
            "Epoch 00010: ReduceLROnPlateau reducing learning rate to 2.700000040931627e-05.\n",
            "\n",
            " ROC-AUC - epoch: 10 - score: 0.500845\n",
            "32/32 [==============================] - 123s 4s/step - loss: 0.2844 - accuracy: 0.9180 - val_loss: 0.4473 - val_accuracy: 0.8462 - lr: 9.0000e-05\n"
          ],
          "name": "stdout"
        }
      ]
    },
    {
      "cell_type": "markdown",
      "metadata": {
        "id": "u5Oj0FXatBpB",
        "colab_type": "text"
      },
      "source": [
        "Scratch with Attention"
      ]
    },
    {
      "cell_type": "code",
      "metadata": {
        "id": "FSXD8z_7tA-X",
        "colab_type": "code",
        "colab": {}
      },
      "source": [
        "embedding = tf.keras.layers.Embedding(np.shape(embed)[0], np.shape(embed)[1],\n",
        "                      input_length=MAX_LEN)(input_word_ids)\n",
        "bi_lstm = tf.keras.layers.Bidirectional(tf.keras.layers.LSTM(BATCH_SIZE))(embedding)\n",
        "attention = tf.keras.layers.Attention()([bi_lstm, bi_lstm])\n",
        "dense1 = tf.keras.layers.Dense(BATCH_SIZE, activation='relu')(attention)\n",
        "dense2 = tf.keras.layers.Dense(1, activation='sigmoid')(dense1)\n",
        "scratch_with_attn = tf.keras.Model(inputs=input_word_ids, outputs=dense2)"
      ],
      "execution_count": 0,
      "outputs": []
    },
    {
      "cell_type": "code",
      "metadata": {
        "id": "8PrWF1xZH7az",
        "colab_type": "code",
        "colab": {}
      },
      "source": [
        "scratch_with_attn.compile(tf.keras.optimizers.Adam(lr=0.001), \n",
        "                  loss='binary_crossentropy', \n",
        "                  metrics=['accuracy'])"
      ],
      "execution_count": 0,
      "outputs": []
    },
    {
      "cell_type": "code",
      "metadata": {
        "id": "hEyBOGyBIWYw",
        "colab_type": "code",
        "outputId": "7716acfe-aa5e-46bf-92e5-183b82f0d8f6",
        "colab": {
          "base_uri": "https://localhost:8080/",
          "height": 748
        }
      },
      "source": [
        "history = scratch_with_attn.fit(train, epochs=EPOCHS,\n",
        "                        steps_per_epoch=BATCH_SIZE, callbacks=get_callbacks(\"scratch_with_attn.csv\"),\n",
        "                    validation_data=valid)"
      ],
      "execution_count": 0,
      "outputs": [
        {
          "output_type": "stream",
          "text": [
            "WARNING:tensorflow:`epsilon` argument is deprecated and will be removed, use `min_delta` instead.\n",
            "Epoch 1/10\n",
            "32/32 [==============================] - ETA: 0s - loss: 0.4208 - accuracy: 0.8721\n",
            " ROC-AUC - epoch: 1 - score: 0.521324\n",
            "32/32 [==============================] - 169s 5s/step - loss: 0.4208 - accuracy: 0.8721 - val_loss: 0.4440 - val_accuracy: 0.8462 - lr: 0.0010\n",
            "Epoch 2/10\n",
            "32/32 [==============================] - ETA: 0s - loss: 0.3113 - accuracy: 0.9062\n",
            " ROC-AUC - epoch: 2 - score: 0.534601\n",
            "32/32 [==============================] - 170s 5s/step - loss: 0.3113 - accuracy: 0.9062 - val_loss: 0.4391 - val_accuracy: 0.8462 - lr: 0.0010\n",
            "Epoch 3/10\n",
            "32/32 [==============================] - ETA: 0s - loss: 0.3608 - accuracy: 0.8838\n",
            " ROC-AUC - epoch: 3 - score: 0.533383\n",
            "32/32 [==============================] - 171s 5s/step - loss: 0.3608 - accuracy: 0.8838 - val_loss: 0.4351 - val_accuracy: 0.8462 - lr: 0.0010\n",
            "Epoch 4/10\n",
            "32/32 [==============================] - ETA: 0s - loss: 0.2849 - accuracy: 0.9180\n",
            " ROC-AUC - epoch: 4 - score: 0.536298\n",
            "32/32 [==============================] - 171s 5s/step - loss: 0.2849 - accuracy: 0.9180 - val_loss: 0.4557 - val_accuracy: 0.8462 - lr: 0.0010\n",
            "Epoch 5/10\n",
            "32/32 [==============================] - ETA: 0s - loss: 0.3206 - accuracy: 0.9033\n",
            " ROC-AUC - epoch: 5 - score: 0.535232\n",
            "32/32 [==============================] - 171s 5s/step - loss: 0.3206 - accuracy: 0.9033 - val_loss: 0.4460 - val_accuracy: 0.8462 - lr: 0.0010\n",
            "Epoch 6/10\n",
            "32/32 [==============================] - ETA: 0s - loss: 0.3469 - accuracy: 0.8906\n",
            " ROC-AUC - epoch: 6 - score: 0.541248\n",
            "32/32 [==============================] - 169s 5s/step - loss: 0.3469 - accuracy: 0.8906 - val_loss: 0.4323 - val_accuracy: 0.8462 - lr: 0.0010\n",
            "Epoch 7/10\n",
            "32/32 [==============================] - ETA: 0s - loss: 0.2800 - accuracy: 0.9043\n",
            " ROC-AUC - epoch: 7 - score: 0.594474\n",
            "32/32 [==============================] - 167s 5s/step - loss: 0.2800 - accuracy: 0.9043 - val_loss: 0.8396 - val_accuracy: 0.3336 - lr: 0.0010\n",
            "Epoch 8/10\n",
            "32/32 [==============================] - ETA: 0s - loss: 0.2160 - accuracy: 0.9248\n",
            " ROC-AUC - epoch: 8 - score: 0.605769\n",
            "32/32 [==============================] - 166s 5s/step - loss: 0.2160 - accuracy: 0.9248 - val_loss: 0.4332 - val_accuracy: 0.8462 - lr: 0.0010\n",
            "Epoch 9/10\n",
            "32/32 [==============================] - ETA: 0s - loss: 0.2170 - accuracy: 0.9277\n",
            "Epoch 00009: ReduceLROnPlateau reducing learning rate to 0.0003000000142492354.\n",
            "\n",
            " ROC-AUC - epoch: 9 - score: 0.597208\n",
            "32/32 [==============================] - 166s 5s/step - loss: 0.2170 - accuracy: 0.9277 - val_loss: 0.5297 - val_accuracy: 0.7090 - lr: 0.0010\n",
            "Epoch 10/10\n",
            "32/32 [==============================] - ETA: 0s - loss: 0.1722 - accuracy: 0.9424\n",
            " ROC-AUC - epoch: 10 - score: 0.591179\n",
            "32/32 [==============================] - 167s 5s/step - loss: 0.1722 - accuracy: 0.9424 - val_loss: 0.5407 - val_accuracy: 0.6952 - lr: 3.0000e-04\n"
          ],
          "name": "stdout"
        }
      ]
    },
    {
      "cell_type": "code",
      "metadata": {
        "id": "vvjujSkoIb3m",
        "colab_type": "code",
        "colab": {}
      },
      "source": [
        ""
      ],
      "execution_count": 0,
      "outputs": []
    }
  ]
}